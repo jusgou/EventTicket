{
 "cells": [
  {
   "cell_type": "code",
   "execution_count": 1,
   "metadata": {},
   "outputs": [],
   "source": [
    "from ticket import initContract, w3, account, ticket, ticketPurchase, ticketRegister\n",
    "from ticket import getAllSales, getAllPurchases, getLastPurchase, offerPurchase\n",
    "from ticket import acceptOffer, rejectOffer, collectRefund, getAllOffers, getOffersMadeToMe\n",
    "\n",
    "from pprint import pprint\n",
    "import pandas as pd"
   ]
  },
  {
   "cell_type": "code",
   "execution_count": 2,
   "metadata": {},
   "outputs": [
    {
     "data": {
      "text/plain": [
       "True"
      ]
     },
     "execution_count": 2,
     "metadata": {},
     "output_type": "execute_result"
    }
   ],
   "source": [
    "w3.isConnected()"
   ]
  },
  {
   "cell_type": "markdown",
   "metadata": {},
   "source": [
    "# Balances"
   ]
  },
  {
   "cell_type": "markdown",
   "metadata": {},
   "source": [
    "## My wallet balance"
   ]
  },
  {
   "cell_type": "code",
   "execution_count": 3,
   "metadata": {},
   "outputs": [
    {
     "name": "stdout",
     "output_type": "stream",
     "text": [
      "Wallet: 0x714EC318d6F66c6A7065565140f73cD12DcFf9C3\n",
      "13.7215 Ether\n"
     ]
    }
   ],
   "source": [
    "balance = w3.eth.getBalance(account.address) / 1000000000000000000\n",
    "\n",
    "print ('Wallet: ' + account.address)\n",
    "print(\"%.4f\" % round(balance, 4) + ' Ether') "
   ]
  },
  {
   "cell_type": "markdown",
   "metadata": {},
   "source": [
    "## My ticket balance"
   ]
  },
  {
   "cell_type": "code",
   "execution_count": 4,
   "metadata": {},
   "outputs": [
    {
     "data": {
      "text/plain": [
       "0"
      ]
     },
     "execution_count": 4,
     "metadata": {},
     "output_type": "execute_result"
    }
   ],
   "source": [
    "ticket.functions.balanceOf(account.address).call()"
   ]
  },
  {
   "cell_type": "markdown",
   "metadata": {},
   "source": [
    "# Register ticket (Owner only)"
   ]
  },
  {
   "cell_type": "code",
   "execution_count": null,
   "metadata": {},
   "outputs": [],
   "source": [
    "#Register (owner only)\n",
    "numberOfTickets = input(\"Enter the amount of tickets you would like to register:\")\n",
    "receipt = ticketRegister(int(numberOfTickets))\n"
   ]
  },
  {
   "cell_type": "markdown",
   "metadata": {},
   "source": [
    "## Total ticket supply"
   ]
  },
  {
   "cell_type": "code",
   "execution_count": 5,
   "metadata": {},
   "outputs": [
    {
     "data": {
      "text/plain": [
       "5"
      ]
     },
     "execution_count": 5,
     "metadata": {},
     "output_type": "execute_result"
    }
   ],
   "source": [
    "ticket.functions.totalSupply().call()"
   ]
  },
  {
   "cell_type": "markdown",
   "metadata": {},
   "source": [
    "# Ticket purchase (from vendor)"
   ]
  },
  {
   "cell_type": "code",
   "execution_count": 6,
   "metadata": {},
   "outputs": [
    {
     "name": "stdin",
     "output_type": "stream",
     "text": [
      "Enter your name:  Jus Gou\n",
      "Enter your email:  crypto@kitty.com\n",
      "Enter finney amount:  30\n"
     ]
    }
   ],
   "source": [
    "#Purchase \n",
    "name = input(\"Enter your name: \")\n",
    "email = input(\"Enter your email: \")\n",
    "amount = input(\"Enter finney amount: \")\n",
    "receipt = ticketPurchase(name, email, int(amount))"
   ]
  },
  {
   "cell_type": "markdown",
   "metadata": {},
   "source": [
    "## See last purchase"
   ]
  },
  {
   "cell_type": "code",
   "execution_count": 7,
   "metadata": {},
   "outputs": [
    {
     "name": "stdout",
     "output_type": "stream",
     "text": [
      "Owner name: Jus Gou, Email: crypto@kitty.com, Wallet: 0x714EC318d6F66c6A7065565140f73cD12DcFf9C3, No of times sold: 1\n"
     ]
    }
   ],
   "source": [
    "#Last purchase details\n",
    "getLastPurchase()"
   ]
  },
  {
   "cell_type": "markdown",
   "metadata": {},
   "source": [
    "## See all purchases"
   ]
  },
  {
   "cell_type": "code",
   "execution_count": 8,
   "metadata": {},
   "outputs": [
    {
     "name": "stdout",
     "output_type": "stream",
     "text": [
      "Token: 1, Owner: Chimdike, Email: dike@dike.io, Wallet: 0x99F313f735399E24CA3786c5EE4FbF3bA1f06B2F, times sold: 2\n",
      "Token: 2, Owner: Chimdike, Email: dike@dike.io, Wallet: 0x99F313f735399E24CA3786c5EE4FbF3bA1f06B2F, times sold: 1\n",
      "Token: 3, Owner: Chimdike, Email: dike@dike.io, Wallet: 0x99F313f735399E24CA3786c5EE4FbF3bA1f06B2F, times sold: 1\n",
      "Token: 4, Owner: Jus Gou, Email: crypto@kitty.com, Wallet: 0x714EC318d6F66c6A7065565140f73cD12DcFf9C3, times sold: 1\n"
     ]
    }
   ],
   "source": [
    "#Show all the purchases made so far.\n",
    "getAllPurchases()"
   ]
  },
  {
   "cell_type": "markdown",
   "metadata": {},
   "source": [
    "# Offers"
   ]
  },
  {
   "cell_type": "markdown",
   "metadata": {},
   "source": [
    "## Make an offer to buy an already purchased ticket"
   ]
  },
  {
   "cell_type": "code",
   "execution_count": 7,
   "metadata": {},
   "outputs": [
    {
     "name": "stdin",
     "output_type": "stream",
     "text": [
      "Enter your name: Vitalik Buterin\n",
      "Enter your email: vitalik@ethereum.com\n",
      "Enter finney amount: 40\n",
      "Enter the token id for the offer: 1\n"
     ]
    }
   ],
   "source": [
    "#Make an offer for a ticket\n",
    "name = input(\"Enter your name:\")\n",
    "email = input(\"Enter your email:\")\n",
    "amount = input(\"Enter finney amount:\")\n",
    "offerTokenId = input(\"Enter the token id for the offer:\")\n",
    "\n",
    "receipt = offerPurchase(int(offerTokenId), name, email, int(amount))"
   ]
  },
  {
   "cell_type": "markdown",
   "metadata": {},
   "source": [
    "## See offers made to me"
   ]
  },
  {
   "cell_type": "code",
   "execution_count": null,
   "metadata": {},
   "outputs": [],
   "source": [
    "getOffersMadeToMe()\n"
   ]
  },
  {
   "cell_type": "markdown",
   "metadata": {},
   "source": [
    "## Accept offer made to me"
   ]
  },
  {
   "cell_type": "code",
   "execution_count": 6,
   "metadata": {},
   "outputs": [
    {
     "name": "stdin",
     "output_type": "stream",
     "text": [
      "Enter the token id for the offer: 1\n"
     ]
    }
   ],
   "source": [
    "acceptTokenId = input(\"Enter the token id for the offer:\")\n",
    "receipt = acceptOffer(int(acceptTokenId))"
   ]
  },
  {
   "cell_type": "markdown",
   "metadata": {},
   "source": [
    "## Reject offer made to me"
   ]
  },
  {
   "cell_type": "code",
   "execution_count": null,
   "metadata": {},
   "outputs": [],
   "source": [
    "rejectTokenId = input(\"Enter the token id for the offer:\")\n",
    "receipt = rejectOffer(int(rejectTokenId))"
   ]
  },
  {
   "cell_type": "markdown",
   "metadata": {},
   "source": [
    "## See all offers"
   ]
  },
  {
   "cell_type": "code",
   "execution_count": 9,
   "metadata": {},
   "outputs": [
    {
     "name": "stdout",
     "output_type": "stream",
     "text": [
      "Token: 1, Offer time: 2021-08-08T19:05:44, Offer expiry: 2021-08-08T19:10:44, Offer name: Vitalik Buterin, Offer email: vitalik@ethereum.com, Offer address: 0x714EC318d6F66c6A7065565140f73cD12DcFf9C3, Offer amount: 40.0 finney, Offer closed: True, Offer status: rejected\n"
     ]
    }
   ],
   "source": [
    "#offer = ticket.functions.offers(2).call()\n",
    "\n",
    "#Open offers\n",
    "getAllOffers()"
   ]
  },
  {
   "cell_type": "markdown",
   "metadata": {},
   "source": [
    "## Collect refund (expired offer)"
   ]
  },
  {
   "cell_type": "code",
   "execution_count": null,
   "metadata": {},
   "outputs": [],
   "source": [
    "refundTokenId = input(\"Enter the token id for the offer:\")\n",
    "receipt = collectRefund(int(refundTokenId))"
   ]
  },
  {
   "cell_type": "code",
   "execution_count": null,
   "metadata": {},
   "outputs": [],
   "source": []
  },
  {
   "cell_type": "code",
   "execution_count": null,
   "metadata": {},
   "outputs": [],
   "source": []
  }
 ],
 "metadata": {
  "kernelspec": {
   "display_name": "Python 3",
   "language": "python",
   "name": "python3"
  },
  "language_info": {
   "codemirror_mode": {
    "name": "ipython",
    "version": 3
   },
   "file_extension": ".py",
   "mimetype": "text/x-python",
   "name": "python",
   "nbconvert_exporter": "python",
   "pygments_lexer": "ipython3",
   "version": "3.7.9"
  }
 },
 "nbformat": 4,
 "nbformat_minor": 4
}
